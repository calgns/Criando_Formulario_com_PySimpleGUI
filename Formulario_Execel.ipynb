{
 "cells": [
  {
   "cell_type": "code",
   "execution_count": 2,
   "metadata": {},
   "outputs": [
    {
     "name": "stdout",
     "output_type": "stream",
     "text": [
      "Confirmar {'Nome': 'q', 'SobreNome': 'q', 'Conhecimento': 'Power Query', 'Inglês': False, 'Espanhol': True, 'FRANÇAÍS': False, 'Maaaaiiss': False, 'Idade': 18}\n"
     ]
    }
   ],
   "source": [
    "import PySimpleGUI as sg\n",
    "import pandas as pd\n",
    "# tema de fundo/cor\n",
    "sg.theme('DarkTeal9')\n",
    "\n",
    "ARQ_EXCEL = 'Entrar_Dados.xlsx'\n",
    "\n",
    "df = pd.read_excel(ARQ_EXCEL)\n",
    "\n",
    "layout=[\n",
    "    [sg.Text('pre-encher as seguintes informações:')],\n",
    "    [sg.Text('Nome', size=(5,1)), sg.InputText(key='Nome')],\n",
    "    [sg.Text(\"SobreNome\", size=(9,2)), sg.InputText(key=\"SobreNome\")],\n",
    "    [sg.Text('Programa', size=(7,2)), sg.Combo(['Exel',\"VBA\",'Power Query', \"Outros\", \"None\"], key='Conhecimento')],\n",
    "    [sg.Text('Sei!', size=(3,2)),\n",
    "                         sg.Checkbox(\"Inglês\", key='Inglês'),\n",
    "                         sg.Checkbox('Espanhol', key=\"Espanhol\"),\n",
    "                         sg.Checkbox(\"FRANÇAÍS\", key=\"FRANÇAÍS\"),\n",
    "                         sg.Checkbox(\"Maiiss\", key=\"Maaaaiiss\")\n",
    "\n",
    "     ],\n",
    "    [sg.Text(\"Idade\", size=(4,2)), sg.Spin([i for i in range(0,200)],\n",
    "                                           initial_value=18, key=\"Idade\")],\n",
    "    [sg.Submit(\"Confirmar\"), sg.Button(\"Limpar\"), sg.Exit('Sair')]\n",
    "]\n",
    "\n",
    "window = sg.Window('formulário de entrada de dados (simples e cru)', layout)\n",
    "\n",
    "def Limpar_Entrada():\n",
    "    for key in valores:\n",
    "        window[key]('')\n",
    "    return None\n",
    "\n",
    "while True:\n",
    "    evento, valores = window.read()\n",
    "    if evento == sg.WIN_CLOSED or evento == 'Sair':\n",
    "        break\n",
    "    if evento == 'Limpar':\n",
    "        Limpar_Entrada()\n",
    "    if evento == \"Confirmar\":\n",
    "        df = df.append(valores, ignore_index=True)\n",
    "        df.to_excel(ARQ_EXCEL, index=False)\n",
    "        sg.popup(\"SALVO_COM_SUCESSO!!!\")\n",
    "        print(evento, valores)\n",
    "        Limpar_Entrada()\n",
    "window.close()"
   ]
  }
 ],
 "metadata": {
  "kernelspec": {
   "display_name": "Python 3",
   "language": "python",
   "name": "python3"
  },
  "language_info": {
   "codemirror_mode": {
    "name": "ipython",
    "version": 3
   },
   "file_extension": ".py",
   "mimetype": "text/x-python",
   "name": "python",
   "nbconvert_exporter": "python",
   "pygments_lexer": "ipython3",
   "version": "3.8.5"
  }
 },
 "nbformat": 4,
 "nbformat_minor": 4
}
